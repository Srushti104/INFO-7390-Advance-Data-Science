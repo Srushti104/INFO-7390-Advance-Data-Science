{
 "cells": [
  {
   "cell_type": "markdown",
   "metadata": {},
   "source": [
    "<h1 style=\"text-align:center;\">Mini Project - Altair - Vega Graph Hands-On"
   ]
  },
  {
   "cell_type": "markdown",
   "metadata": {},
   "source": [
    "<hr style=\"height:.15em; background-color:gray\">"
   ]
  },
  {
   "cell_type": "markdown",
   "metadata": {},
   "source": [
    "<div>\n",
    "    <h3 style=\"text-align:center;\">Table of Context</h3>\n",
    "</div>\n",
    "\n",
    ">>1. [Learning Goals](#Learning-Goals)\n",
    ">>2. [Introduction](#Introduction)\n",
    ">>3. [Installation](#Installation)\n",
    ">>4. [Imports](#Imports)\n",
    ">>5. [Main Content](#Main-Content)  \n",
    "     >>> a. [Loading Data](##Loading-Data)  \n",
    "     >>> b. [File Information](##File-Information)  \n",
    "     >>> c. [Getting Data Ready for Visualization](##Getting-Data-Ready-for-Visualization)  \n",
    "     >>> d. [Using Altair Visualizations](##Using-Altair-Visualizations)  \n",
    "     >>> f. [Save as JSON](##Save-as-JSON)  \n",
    ">>6. [Exercises](#Exercises)  \n",
    ">>7. [Additional Resources](#Additional-Resources)  \n",
    ">>8. [Citations](#Citations)  \n",
    ">>9. [Footer](#Footer)  "
   ]
  },
  {
   "cell_type": "markdown",
   "metadata": {},
   "source": [
    "<hr style=\"height:.15em; background-color:gray\">"
   ]
  },
  {
   "cell_type": "markdown",
   "metadata": {},
   "source": [
    "<div class=\"alert alert-block alert-warning\">\n",
    "<h1 style=\"text-align:center;\">Learning Goals\n",
    "<br>"
   ]
  },
  {
   "cell_type": "markdown",
   "metadata": {},
   "source": [
    "> By the end of this tutorial, you will be able to:\n",
    ">>- Identifying objects, encoding used in Altiar.\n",
    ">>- Formats accepted by Altiar.\n",
    ">>- Understand how to plot using the excisting Altiar - Vega Graphs.\n",
    ">>- How to read generated json schema.\n",
    ">>- Understanding the usecase and future implementation of Altiar."
   ]
  },
  {
   "cell_type": "markdown",
   "metadata": {},
   "source": [
    "<a href=\"#Mini-Project---Altair---Vega-Graph-Hands-On\"><p >Scroll Top\n",
    "<hr style=\"height:.15em; background-color:gray\">"
   ]
  },
  {
   "cell_type": "markdown",
   "metadata": {},
   "source": [
    "<div class=\"alert alert-block alert-warning\">\n",
    "    <h1 style=\"text-align:center;\">Introduction</h1>\n",
    "    <br>"
   ]
  },
  {
   "cell_type": "markdown",
   "metadata": {},
   "source": [
    "The motive of this notebook is to introduce and explain what is vega and Altair, while covering the step by step guide to integrate and utilize vega - altair graphs in dataset. we will also cover the aspect of customization of graph. The topics will be followed by exercises for the reader for better understanding and to get hands on the altair code.   \n",
    "\n",
    "\n",
    "The output plot or graph can be saved in various format like png or jpg or svg or json. Json has various usage which can be later tweaked and we can generate the back the image with changes. The generated json can be used to train neural network to learn what and how different plots are and model can identify graph or plots."
   ]
  },
  {
   "cell_type": "markdown",
   "metadata": {},
   "source": [
    "<h3 class=\"text-primary\">What is Vega?\n",
    "  "
   ]
  },
  {
   "cell_type": "markdown",
   "metadata": {},
   "source": [
    "Vega is a visualization grammar, a declarative language for creating, saving, and sharing interactive visualization designs. With Vega, you can describe the visual appearance and interactive behavior of a visualization in a JSON format, and generate web-based views using Canvas or SVG.    \n",
    "\n",
    "Vega provides basic building blocks for a wide variety of visualization designs: data loading and transformation, scales, map projections, axes, legends, and graphical marks such as rectangles, lines, plotting symbols, etc. Interaction techniques can be specified using reactive signals that dynamically modify a visualization in response to input event streams.  \n",
    "\n",
    "A Vega specification defines an interactive visualization in a JSON format. Specifications are parsed by Vega’s JavaScript runtime to generate both static images or interactive web-based views. Vega provides a convenient representation for computational generation of visualizations, and can serve as a foundation for new APIs and visual analysis tools.\n"
   ]
  },
  {
   "cell_type": "markdown",
   "metadata": {},
   "source": [
    "<h3 class=\"text-primary\">What is Altair?"
   ]
  },
  {
   "cell_type": "markdown",
   "metadata": {},
   "source": [
    "Altair is Python API to connect to Vega. Altair is a declarative statistical visualization library for Python, based on Vega and Vega-Lite. Altair offers a powerful and concise visualization grammar that enables you to build a wide range of statistical visualizations quickly.  "
   ]
  },
  {
   "cell_type": "markdown",
   "metadata": {},
   "source": [
    "<a href=\"#Mini-Project---Altair---Vega-Graph-Hands-On\"><p >Scroll Top\n",
    "<hr style=\"height:.15em; background-color:gray\">"
   ]
  },
  {
   "cell_type": "markdown",
   "metadata": {},
   "source": [
    "<div class=\"alert alert-block alert-warning\">\n",
    "    <h1 style=\"text-align:center;\">Installation</h1>\n",
    "<br>"
   ]
  },
  {
   "cell_type": "markdown",
   "metadata": {},
   "source": [
    " \n",
    "Altair can be installed, along with the example datastes in vega_datasets, using:  \n",
    "\n",
    "   > $ pip install altair vega_datasets"
   ]
  },
  {
   "cell_type": "code",
   "execution_count": null,
   "metadata": {},
   "outputs": [],
   "source": [
    "!pip install altair vega_datasets"
   ]
  },
  {
   "cell_type": "markdown",
   "metadata": {},
   "source": [
    "<a href=\"#Mini-Project---Altair---Vega-Graph-Hands-On\"><p >Scroll Top\n",
    "<hr style=\"height:.15em; background-color:gray\">"
   ]
  },
  {
   "cell_type": "markdown",
   "metadata": {},
   "source": [
    "<div class=\"alert alert-block alert-warning\">\n",
    "    <h1 style=\"text-align:center;\">Imports</h1>\n",
    "    <br>"
   ]
  },
  {
   "cell_type": "code",
   "execution_count": null,
   "metadata": {},
   "outputs": [],
   "source": [
    "import pandas as pd\n",
    "import numpy as np\n",
    "import json\n",
    "import os\n",
    "from IPython.display import JSON\n",
    "\n",
    "#import  Altair API  \n",
    "import altair as alt"
   ]
  },
  {
   "cell_type": "markdown",
   "metadata": {},
   "source": [
    "<a href=\"#Mini-Project---Altair---Vega-Graph-Hands-On\"><p >Scroll Top\n",
    "<hr style=\"height:.15em; background-color:gray\">"
   ]
  },
  {
   "cell_type": "markdown",
   "metadata": {},
   "source": [
    "<div class=\"alert alert-block alert-warning\">\n",
    "    <h1 style=\"text-align:center;\">Main Content</h1>\n",
    "    <br>"
   ]
  },
  {
   "cell_type": "markdown",
   "metadata": {},
   "source": [
    "<div class=\"alert alert-block alert-success\">\n",
    "    <h2 style=\"text-align:center;\">Loading Data</h2>\n",
    "    <br>"
   ]
  },
  {
   "cell_type": "markdown",
   "metadata": {},
   "source": [
    "Each top-level chart object (i.e. Chart, LayerChart, and VConcatChart, HConcatChart, RepeatChart, FacetChart) accepts a dataset as its first argument. The dataset can be specified in one of the following ways:\n",
    "\n",
    "    as a Pandas DataFrame\n",
    "    as a Data or related object (i.e. UrlData, InlineData, NamedData)\n",
    "    as a url string pointing to a json or csv formatted text file\n",
    "    as an object that supports the __geo_interface__ (eg. Geopandas GeoDataFrame, Shapely Geometries, GeoJSON Objects)\n",
    "  "
   ]
  },
  {
   "cell_type": "code",
   "execution_count": null,
   "metadata": {
    "scrolled": true
   },
   "outputs": [],
   "source": [
    "# !pip install kaggle\n",
    "# !pip install --upgrade google-api-python-client\n",
    "# !pip install google-colab"
   ]
  },
  {
   "cell_type": "code",
   "execution_count": null,
   "metadata": {},
   "outputs": [],
   "source": [
    "# from google.colab import files\n",
    "# uploaded = files.upload()"
   ]
  },
  {
   "cell_type": "code",
   "execution_count": null,
   "metadata": {},
   "outputs": [],
   "source": [
    "#Kaggle API\n",
    "# !mkdir -p ~/.kaggle\n",
    "# !cp kaggle.json ~/.kaggle/\n",
    "\n",
    "# !chmod 600 ~/.kaggle/kaggle.json"
   ]
  },
  {
   "cell_type": "code",
   "execution_count": null,
   "metadata": {},
   "outputs": [],
   "source": [
    "\n",
    "# !kaggle datasets download -d dgomonov/new-york-city-airbnb-open-data"
   ]
  },
  {
   "cell_type": "code",
   "execution_count": null,
   "metadata": {},
   "outputs": [],
   "source": [
    "# !ls"
   ]
  },
  {
   "cell_type": "code",
   "execution_count": null,
   "metadata": {},
   "outputs": [],
   "source": [
    "#Unzip command\n",
    "# !unzip -q Train.zip -d ."
   ]
  },
  {
   "cell_type": "code",
   "execution_count": null,
   "metadata": {},
   "outputs": [],
   "source": [
    "df1 = pd.read_csv('COVID-19.csv')"
   ]
  },
  {
   "cell_type": "code",
   "execution_count": null,
   "metadata": {},
   "outputs": [],
   "source": [
    "df = pd.read_csv('AB_NYC_2019.csv')"
   ]
  },
  {
   "cell_type": "markdown",
   "metadata": {},
   "source": [
    "<a href=\"#Mini-Project---Altair---Vega-Graph-Hands-On\"><p >Scroll Top\n",
    "<hr style=\"height:.15em; background-color:gray\">"
   ]
  },
  {
   "cell_type": "markdown",
   "metadata": {},
   "source": [
    "<div class=\"alert alert-block alert-success\">\n",
    "    <h2 style=\"text-align:center;\">File Information</h2>\n",
    "    <br>"
   ]
  },
  {
   "cell_type": "code",
   "execution_count": null,
   "metadata": {},
   "outputs": [],
   "source": [
    "df.head()"
   ]
  },
  {
   "cell_type": "code",
   "execution_count": null,
   "metadata": {},
   "outputs": [],
   "source": [
    "df1.head()"
   ]
  },
  {
   "cell_type": "code",
   "execution_count": null,
   "metadata": {},
   "outputs": [],
   "source": [
    "df.info()"
   ]
  },
  {
   "cell_type": "code",
   "execution_count": null,
   "metadata": {},
   "outputs": [],
   "source": [
    "df.shape"
   ]
  },
  {
   "cell_type": "code",
   "execution_count": null,
   "metadata": {},
   "outputs": [],
   "source": [
    "df1.shape"
   ]
  },
  {
   "cell_type": "code",
   "execution_count": null,
   "metadata": {},
   "outputs": [],
   "source": [
    "df1.describe()"
   ]
  },
  {
   "cell_type": "code",
   "execution_count": null,
   "metadata": {
    "scrolled": false
   },
   "outputs": [],
   "source": [
    "df.dtypes"
   ]
  },
  {
   "cell_type": "markdown",
   "metadata": {},
   "source": [
    "<a href=\"#Mini-Project---Altair---Vega-Graph-Hands-On\"><p >Scroll Top\n",
    "<hr style=\"height:.15em; background-color:gray\">"
   ]
  },
  {
   "cell_type": "markdown",
   "metadata": {},
   "source": [
    "<div class=\"alert alert-block alert-success\">\n",
    "    <h2 style=\"text-align:center;\">Getting Data ready for Visualization</h2>\n",
    "    <br>"
   ]
  },
  {
   "cell_type": "markdown",
   "metadata": {},
   "source": [
    "<h3 class=\"text-primary\">Data Cleaning"
   ]
  },
  {
   "cell_type": "code",
   "execution_count": null,
   "metadata": {},
   "outputs": [],
   "source": [
    "#Calculating null values\n",
    "def null_count(df):\n",
    "    nulls_count = {col: df[col].isnull().sum() for col in df.columns} \n",
    "    print(nulls_count)"
   ]
  },
  {
   "cell_type": "code",
   "execution_count": null,
   "metadata": {},
   "outputs": [],
   "source": [
    "null_count(df)\n",
    "null_count(df1)"
   ]
  },
  {
   "cell_type": "code",
   "execution_count": null,
   "metadata": {},
   "outputs": [],
   "source": [
    "# We are dropping  Columns which have more than 30% of null value\n",
    "# Repalcing null value with mean in case of int and float\n",
    "# If null value persist for other cases we are dropping those rows\n",
    "\n",
    "is_null_count_out_of_range = {col: df[col].isnull().sum()/df.shape[0] *100 > 30 for col in df.columns}\n",
    "\n",
    "for k,v in is_null_count_out_of_range.items():\n",
    "    if v:\n",
    "        df.drop( k,axis=1,inplace=True )\n",
    "    else:\n",
    "        if isinstance(df[k][0], (np.int64, np.float64)) :\n",
    "            df[k].fillna(df[k].mean(), inplace=True)\n",
    "        else :\n",
    "            drop_list = df[df[k].isnull()].index.tolist()\n",
    "            df.drop( drop_list,axis=0,inplace=True  )\n",
    "            \n",
    "     \n",
    "    nulls_count = {col: df[col].isnull().sum() for col in df.columns}\n",
    "    \n",
    "print(nulls_count)"
   ]
  },
  {
   "cell_type": "markdown",
   "metadata": {},
   "source": [
    "<h3 class=\"text-primary\">Data type conversion"
   ]
  },
  {
   "cell_type": "code",
   "execution_count": null,
   "metadata": {
    "scrolled": true
   },
   "outputs": [],
   "source": [
    "#Converting columns to categorical having less than or equal to 10 \n",
    "#unique values in a cloumn\n",
    "\n",
    "uniques = {col: df[col].unique().tolist() for col in df.columns}\n",
    "\n",
    "for k,v in uniques.items():\n",
    "    if len(pd.Index(v)) <=10:\n",
    "        df[k]=df[k].astype('category')\n",
    "        \n",
    "df.dtypes"
   ]
  },
  {
   "cell_type": "markdown",
   "metadata": {},
   "source": [
    "<a href=\"#Mini-Project---Altair---Vega-Graph-Hands-On\"><p >Scroll Top\n",
    "<hr style=\"height:.15em; background-color:gray\">"
   ]
  },
  {
   "cell_type": "markdown",
   "metadata": {},
   "source": [
    "<div class=\"alert alert-block alert-success\">\n",
    "    <h2 style=\"text-align:center;\">Using Altair Visualizations</h2>\n",
    "    <br>"
   ]
  },
  {
   "cell_type": "markdown",
   "metadata": {},
   "source": [
    "<h3 class=\"text-primary\">Chart object:"
   ]
  },
  {
   "cell_type": "markdown",
   "metadata": {},
   "source": [
    "The fundamental object in Altair is the Chart, which takes a dataframe as a single argument\n",
    "\n",
    " >  chart = alt.Chart(data)\n",
    "\n"
   ]
  },
  {
   "cell_type": "markdown",
   "metadata": {},
   "source": [
    "<h3 class=\"text-primary\">Encodings and Marks:"
   ]
  },
  {
   "cell_type": "markdown",
   "metadata": {},
   "source": [
    "Chart Object can specify how we would like the data to be visualized. \n",
    "This is done via the mark attribute of the chart object, which is most conveniently accessed via the __Chart.mark_*__ methods. \n",
    "For example, we can show the data as a point using mark_point().  \n",
    "For point chart\n",
    "\n",
    "   >       alt.Chart(data).mark_point()   \n",
    "\n",
    "For bar chart\n",
    "   >       alt.Chart(data).mark_bar()\n",
    "\n",
    "\n",
    "For more details on Marks and its properties, refer below link:  \n",
    "https://altair-viz.github.io/user_guide/marks.html  \n",
    "\n",
    "**Axis, color, size**  \n",
    "We can map various encoding channels, or channels for short, to columns in the dataset. \n",
    "For example, we could encode the variable a of the data with the x channel, which represents the x-axis position of the points. This can be done straightforwardly via the Chart.encode() method:   \n",
    "\n",
    "   >       alt.Chart(data).mark_point().encode(x='a',)  \n",
    "\n",
    "\n",
    "The encode() method builds a key-value mapping between encoding channels (such as 'x', 'y', 'color', 'shape', 'size', etc.) to columns in the dataset, accessed by column name.\n",
    "we can swap x & y axis to get horizontal or vertical plot.\n",
    "\n",
    "For pandas dataframes, Altair automatically determines the appropriate data type for the mapped column, which in this case is a nominal value, or an unordered categorical.  \n",
    "\n",
    "**Aggregation**  \n",
    " Altair has a built-in syntax for aggregation of data. \n",
    " For example, we can compute the average of all values by specifying this aggregate within the column identifier:\n",
    "   >       alt.Chart(data).mark_point().encode(\n",
    "           x='a',\n",
    "           y='average(b)')  \n",
    "           \n",
    "           \n",
    "For more details on encoding and properties, refere below link:  \n",
    "https://altair-viz.github.io/user_guide/encoding.html"
   ]
  },
  {
   "cell_type": "markdown",
   "metadata": {},
   "source": [
    "<h3 class=\"text-primary\">Short hand notation:"
   ]
  },
  {
   "cell_type": "markdown",
   "metadata": {},
   "source": [
    "Below code can be written as :\n",
    "   >       y = alt.Y(field='b', type='quantitative', aggregate='average')\n",
    "\n",
    "short and notation \n",
    "   >       y = alt.Y('average(b):Q')"
   ]
  },
  {
   "cell_type": "markdown",
   "metadata": {},
   "source": [
    "<h3 class=\"text-primary\">Customize Visualization:"
   ]
  },
  {
   "cell_type": "markdown",
   "metadata": {},
   "source": [
    "We can specify the axis titles using the axis attribute of channel classes, and we can specify the color of the marking by setting the color keyword of the Chart.mark_* methods to any valid HTML color string  \n",
    " \n",
    "   >       alt.Chart(data).mark_bar(color='firebrick').encode\n",
    "   >          (  \n",
    "   >           alt.Y('a', title='category'),  \n",
    "   >           alt.X('average(b)', title='avg(b) by category')  \n",
    "   >          )"
   ]
  },
  {
   "cell_type": "code",
   "execution_count": null,
   "metadata": {},
   "outputs": [],
   "source": [
    "'''Below code is to enable altair to pick all rows from dataframe, else it throws below error \n",
    "    \"MaxRowsError: The number of rows in your dataset is greater than the maximum\n",
    "              allowed (5000). For information on how to plot larger datasets\n",
    "              in Altair, see the documentation.\"'''\n",
    "\n",
    "alt.data_transformers.disable_max_rows()"
   ]
  },
  {
   "cell_type": "markdown",
   "metadata": {},
   "source": [
    "<h3 class=\"text-primary\">Stacked Bar Graph:"
   ]
  },
  {
   "cell_type": "code",
   "execution_count": null,
   "metadata": {},
   "outputs": [],
   "source": [
    "alt.Chart(df).mark_bar(\n",
    "            cornerRadiusTopLeft=3,\n",
    "            cornerRadiusTopRight=3\n",
    ").encode( x='neighbourhood_group',y='count():Q', color='room_type')"
   ]
  },
  {
   "cell_type": "markdown",
   "metadata": {},
   "source": [
    "<h3 class=\"text-primary\">Layered Bar Chart:"
   ]
  },
  {
   "cell_type": "code",
   "execution_count": null,
   "metadata": {},
   "outputs": [],
   "source": [
    "#Layered Bar Chart\n",
    "alt.Chart(df1).mark_bar(opacity=0.7).encode(\n",
    "    x='deaths:O',\n",
    "    y=alt.Y('count():Q', stack=None),\n",
    "    color=\"region\",\n",
    ")"
   ]
  },
  {
   "cell_type": "markdown",
   "metadata": {},
   "source": [
    "<h3 class=\"text-primary\">Line chart with Confidence Interval:"
   ]
  },
  {
   "cell_type": "code",
   "execution_count": null,
   "metadata": {},
   "outputs": [],
   "source": [
    "\n",
    "from vega_datasets import data\n",
    "source = data.cars()\n",
    "\n",
    "line = alt.Chart(source).mark_line().encode(\n",
    "    x='Year',\n",
    "    y='mean(Miles_per_Gallon)'\n",
    ")\n",
    "\n",
    "band = alt.Chart(source).mark_errorband(extent='ci').encode(\n",
    "    x='Year',\n",
    "    y=alt.Y('Miles_per_Gallon', title='Price'),\n",
    ")\n",
    "\n",
    "band + line"
   ]
  },
  {
   "cell_type": "markdown",
   "metadata": {},
   "source": [
    "<h3 class=\"text-primary\">Stacked Bar Chart with Text Overlay:"
   ]
  },
  {
   "cell_type": "code",
   "execution_count": null,
   "metadata": {
    "scrolled": true
   },
   "outputs": [],
   "source": [
    "\n",
    "from vega_datasets import data\n",
    "\n",
    "bars = alt.Chart(df).mark_bar().encode(\n",
    "    x=alt.X('sum(minimum_nights):Q', stack='zero'),\n",
    "    y=alt.Y('neighbourhood_group:N'),\n",
    "    color=alt.Color('neighbourhood_group')\n",
    ")\n",
    "\n",
    "text = alt.Chart(df).mark_text(dx=-15, dy=3, color='white').encode(\n",
    "    x=alt.X('sum(minimum_nights):Q', stack='zero'),\n",
    "    y=alt.Y('neighbourhood_group:N'),\n",
    "    detail='neighbourhood_group:N',\n",
    "    text=alt.Text('sum(minimum_nights):Q', format='.1f')\n",
    ")\n",
    "\n",
    "bars + text"
   ]
  },
  {
   "cell_type": "markdown",
   "metadata": {},
   "source": [
    "<h3 class=\"text-primary\">Simple Strip Plot:"
   ]
  },
  {
   "cell_type": "code",
   "execution_count": null,
   "metadata": {},
   "outputs": [],
   "source": [
    "\n",
    "alt.Chart(df).mark_tick().encode(\n",
    "    x='price:Q',\n",
    "    y='room_type:O'\n",
    ")"
   ]
  },
  {
   "cell_type": "markdown",
   "metadata": {},
   "source": [
    "<h3 class=\"text-primary\">Simple Scatter Plot with Tooltips:"
   ]
  },
  {
   "cell_type": "code",
   "execution_count": null,
   "metadata": {},
   "outputs": [],
   "source": [
    "\n",
    "alt.Chart(df).mark_circle(size=60).encode(\n",
    "    y='price',\n",
    "    x='availability_365',\n",
    "    color='neighbourhood_group',\n",
    "    tooltip=['price', 'neighbourhood_group', 'room_type']\n",
    ").interactive()"
   ]
  },
  {
   "cell_type": "markdown",
   "metadata": {},
   "source": [
    "<h3 class=\"text-primary\">Interactive Scatter Plot "
   ]
  },
  {
   "cell_type": "code",
   "execution_count": null,
   "metadata": {},
   "outputs": [],
   "source": [
    "input_dropdown = alt.binding_select(options=['Brooklyn','Bronx','Manhattan','Queens','Staten Island'])\n",
    "selection = alt.selection_single(fields=['neighbourhood_group'], bind=input_dropdown, name='Select ')\n",
    "color = alt.condition(selection,\n",
    "                    alt.Color('neighbourhood_group:N', legend=None),\n",
    "                    alt.value('lightgray'))\n",
    "\n",
    "alt.Chart(df).mark_point().encode(\n",
    "    x='availability_365:Q',\n",
    "    y='price:Q',\n",
    "    color=color,\n",
    "    tooltip=['price', 'neighbourhood_group', 'room_type']\n",
    ").add_selection(\n",
    "    selection\n",
    ").transform_filter(\n",
    "    selection\n",
    ")"
   ]
  },
  {
   "cell_type": "markdown",
   "metadata": {},
   "source": [
    "<h3 class=\"text-primary\">Scatter Plot with Href:"
   ]
  },
  {
   "cell_type": "code",
   "execution_count": null,
   "metadata": {},
   "outputs": [],
   "source": [
    "\n",
    "alt.Chart(df).transform_calculate(\n",
    "    url='https://www.google.com/search?q=' + alt.datum.name\n",
    ").mark_point().encode(\n",
    "    x='availability_365:Q',\n",
    "    y='price:Q',\n",
    "    color='neighbourhood_group:N',\n",
    "    href='url:N',\n",
    "    tooltip=['name:N', 'url:N']\n",
    ")"
   ]
  },
  {
   "cell_type": "markdown",
   "metadata": {},
   "source": [
    "<h3 class=\"text-primary\">Scatter Matrix:"
   ]
  },
  {
   "cell_type": "code",
   "execution_count": null,
   "metadata": {
    "scrolled": true
   },
   "outputs": [],
   "source": [
    "alt.Chart(df).mark_circle().encode(\n",
    "    alt.X(alt.repeat(\"column\"), type='quantitative'),\n",
    "    alt.Y(alt.repeat(\"row\"), type='quantitative'),\n",
    "    color='neighbourhood_group:N'\n",
    ").properties(\n",
    "    width=150,\n",
    "    height=150\n",
    ").repeat(\n",
    "    row=['price', 'availability_365', 'minimum_nights'],\n",
    "    column=['minimum_nights', 'availability_365', 'price']\n",
    ").interactive()"
   ]
  },
  {
   "cell_type": "markdown",
   "metadata": {},
   "source": [
    "<h3 class=\"text-primary\">Violin Plot:"
   ]
  },
  {
   "cell_type": "code",
   "execution_count": null,
   "metadata": {
    "scrolled": true
   },
   "outputs": [],
   "source": [
    "alt.Chart(df).transform_density(\n",
    "    'price',\n",
    "    as_=['price', 'density'],\n",
    "    extent=[5, 50],\n",
    "    groupby=['neighbourhood_group']\n",
    ").mark_area(orient='horizontal').encode(\n",
    "    y='price:Q',\n",
    "    color='neighbourhood_group:N',\n",
    "    x=alt.X(\n",
    "        'density:Q',\n",
    "        stack='center',\n",
    "        impute=None,\n",
    "        title=None,\n",
    "        axis=alt.Axis(labels=False, values=[0],grid=False, ticks=True),\n",
    "    ),\n",
    "    column=alt.Column(\n",
    "        'neighbourhood_group:N',\n",
    "        header=alt.Header(\n",
    "            titleOrient='bottom',\n",
    "            labelOrient='bottom',\n",
    "            labelPadding=0,\n",
    "        ),\n",
    "    )\n",
    ").properties(\n",
    "    width=100\n",
    ").configure_facet(\n",
    "    spacing=0\n",
    ").configure_view(\n",
    "    stroke=None\n",
    ")"
   ]
  },
  {
   "cell_type": "markdown",
   "metadata": {},
   "source": [
    "<h3 class=\"text-primary\">Maps:"
   ]
  },
  {
   "cell_type": "code",
   "execution_count": null,
   "metadata": {
    "scrolled": true
   },
   "outputs": [],
   "source": [
    "\n",
    "states = alt.topo_feature(data.world_110m.url, feature='countries')\n",
    "\n",
    "# US states background\n",
    "background = alt.Chart(states).mark_geoshape(\n",
    "    fill='lightgray',\n",
    "    stroke='white'\n",
    ").properties(\n",
    "    width=500,\n",
    "    height=300\n",
    ").project('naturalEarth1')\n",
    "\n",
    "# airport positions on background\n",
    "points = alt.Chart(df1).transform_aggregate(\n",
    "    latitude='mean(latitude)',\n",
    "    longitude='mean(longitude)',\n",
    "    count='count()',\n",
    "    groupby=['country','confirmed_cases','deaths']\n",
    ").mark_circle().encode(\n",
    "    longitude='longitude:Q',\n",
    "    latitude='latitude:Q',\n",
    "    size=alt.Size('count:Q', title='count'),\n",
    "    color=alt.value('steelblue'),\n",
    "    tooltip=['country','confirmed_cases:N','deaths:N']\n",
    ").properties(\n",
    "    title='World Map'\n",
    ")\n",
    "\n",
    "background + points"
   ]
  },
  {
   "cell_type": "markdown",
   "metadata": {},
   "source": [
    "<a href=\"#Mini-Project---Altair---Vega-Graph-Hands-On\"><p >Scroll Top\n",
    "<hr style=\"height:.15em; background-color:gray\">"
   ]
  },
  {
   "cell_type": "markdown",
   "metadata": {},
   "source": [
    "<div class=\"alert alert-block alert-success\">\n",
    "    <h2 style=\"text-align:center;\">Save as JSON</h2>\n",
    "    <br>"
   ]
  },
  {
   "cell_type": "markdown",
   "metadata": {},
   "source": [
    "Metadata is a powerful tool when working with images. It can tell you the dimensions of your image, DPI, camera EXIF data, and more—and each piece of data is a signal you can use to display your images to their best advantage with the JSON Output Format   \n",
    "Once you have visualized your data, perhaps you would like to publish it somewhere on the web. This can be done straightforwardly using the Vega-Embed Javascript package. A simple example of a stand-alone HTML document can be generated for any chart using the Chart.save() method  \n",
    "\n",
    "   >       chart = alt.Chart(data).mark_bar().encode(  \n",
    "        x='a',  \n",
    "        y='average(b)',)    \n",
    "        \n",
    "   >       chart.save('chart.json')"
   ]
  },
  {
   "cell_type": "markdown",
   "metadata": {},
   "source": [
    "<h3 class=\"text-primary\">JSON structure:"
   ]
  },
  {
   "cell_type": "markdown",
   "metadata": {},
   "source": [
    "Below is the JSON structure generated form above code:"
   ]
  },
  {
   "cell_type": "code",
   "execution_count": null,
   "metadata": {},
   "outputs": [],
   "source": [
    "j1 = {  \n",
    "  \"$schema\": \"https://vega.github.io/schema/vega-lite/v4.8.1.json\",  \n",
    "  \"config\": {   \n",
    "    \"view\": {   \n",
    "      \"continuousHeight\": 300,  \n",
    "      \"continuousWidth\": 400  \n",
    "    }   \n",
    "  },  \n",
    "  \"data\": {  \n",
    "    \"name\": \"data-347f1284ea3247c0f55cb966abbdd2d8\"  \n",
    "  },  \n",
    "  \"datasets\": {  \n",
    "    \"data-347f1284ea3247c0f55cb966abbdd2d8\": [  \n",
    "      {  \n",
    "        \"a\": \"C\",  \n",
    "        \"b\": 2  \n",
    "      },    \n",
    "      {   \n",
    "        \"a\": \"C\",  \n",
    "        \"b\": 7  \n",
    "      },  \n",
    "      {  \n",
    "        \"a\": \"C\",  \n",
    "        \"b\": 4  \n",
    "      },  \n",
    "      {  \n",
    "        \"a\": \"D\",  \n",
    "        \"b\": 1  \n",
    "      }  \n",
    "  \n",
    "    ]  \n",
    "  },   \n",
    "  \"encoding\": {  \n",
    "    \"x\": {  \n",
    "      \"field\": \"a\",  \n",
    "      \"type\": \"nominal\"  \n",
    "    },  \n",
    "    \"y\": {  \n",
    "      \"aggregate\": \"average\",  \n",
    "      \"field\": \"b\",  \n",
    "      \"type\": \"quantitative\"  \n",
    "    }  \n",
    "  },  \n",
    "  \"mark\": \"bar\"   \n",
    "}  \n",
    "\n",
    "print(json.dumps(j1, indent=2))"
   ]
  },
  {
   "cell_type": "code",
   "execution_count": null,
   "metadata": {},
   "outputs": [],
   "source": [
    "source = data.barley()\n",
    "\n",
    "Chart=alt.Chart(source).mark_bar().encode(\n",
    "    x='sum(yield):Q',\n",
    "    y='year:O',\n",
    "    color='year:N',\n",
    "    row='site:N'\n",
    ")\n",
    "\n",
    "Chart.save('Bar_chart.json')"
   ]
  },
  {
   "cell_type": "markdown",
   "metadata": {},
   "source": [
    "We can save the plot in other formats as well like png, svg etc"
   ]
  },
  {
   "cell_type": "markdown",
   "metadata": {},
   "source": [
    "<a href=\"#Mini-Project---Altair---Vega-Graph-Hands-On\"><p >Scroll Top\n",
    "<hr style=\"height:.15em; background-color:gray\">"
   ]
  },
  {
   "cell_type": "markdown",
   "metadata": {},
   "source": [
    "<div class=\"alert alert-block alert-warning\">\n",
    "<h1 style=\"text-align:center;\">Exercises</h1>\n",
    "<br>"
   ]
  },
  {
   "cell_type": "markdown",
   "metadata": {},
   "source": [
    "<h3 class=\"text-primary\">Exercise 1:"
   ]
  },
  {
   "cell_type": "code",
   "execution_count": null,
   "metadata": {},
   "outputs": [],
   "source": [
    "source = pd.DataFrame({\n",
    "    'a': ['A', 'B', 'C', 'D', 'E', 'F', 'G', 'H', 'I'],\n",
    "    'b': [28, 55, 43, 91, 81, 53, 19, 87, 52]\n",
    "})\n",
    "\n",
    "alt.Chart(source).mark_bar().encode(\n",
    "    x='a',\n",
    "    y='b'\n",
    ")"
   ]
  },
  {
   "cell_type": "markdown",
   "metadata": {},
   "source": [
    " Try to convert the above Bar graph to line graph  \n",
    "Hint: check .mark_*"
   ]
  },
  {
   "cell_type": "markdown",
   "metadata": {},
   "source": [
    "<h3 class=\"text-primary\">Exercise 2:"
   ]
  },
  {
   "cell_type": "code",
   "execution_count": null,
   "metadata": {},
   "outputs": [],
   "source": [
    "source = data.stocks()\n",
    "\n",
    "alt.Chart(source).mark_area(\n",
    "    color=\"lightgreen\",\n",
    "    interpolate='step-after',\n",
    "    line=True\n",
    ").encode(\n",
    "    x='date',\n",
    "    y='price'\n",
    ")"
   ]
  },
  {
   "cell_type": "markdown",
   "metadata": {},
   "source": [
    "Convert the above graph to Filled step chart by adding transform_filter()  \n",
    "Hint: Pass the parameter -  alt.datum.symbol == 'GOOG'"
   ]
  },
  {
   "cell_type": "markdown",
   "metadata": {},
   "source": [
    "<a href=\"#Mini-Project---Altair---Vega-Graph-Hands-On\"><p >Scroll Top\n",
    "<hr style=\"height:.15em; background-color:gray\">"
   ]
  },
  {
   "cell_type": "markdown",
   "metadata": {},
   "source": [
    "<div class=\"alert alert-block alert-warning\">\n",
    "<h1 style=\"text-align:center;\">Additional Resources</h1>\n",
    "<br> "
   ]
  },
  {
   "cell_type": "markdown",
   "metadata": {},
   "source": [
    "Bar Charts: https://altair-viz.github.io/gallery/index.html#simple-charts"
   ]
  },
  {
   "cell_type": "markdown",
   "metadata": {},
   "source": [
    "Line Charts: https://altair-viz.github.io/gallery/index.html#bar-charts"
   ]
  },
  {
   "cell_type": "markdown",
   "metadata": {},
   "source": [
    "Area Charts: https://altair-viz.github.io/gallery/index.html#area-charts"
   ]
  },
  {
   "cell_type": "markdown",
   "metadata": {},
   "source": [
    "Scatter Charts: https://altair-viz.github.io/gallery/index.html#scatter-plots"
   ]
  },
  {
   "cell_type": "markdown",
   "metadata": {},
   "source": [
    "Histograms: https://altair-viz.github.io/gallery/index.html#histograms"
   ]
  },
  {
   "cell_type": "markdown",
   "metadata": {},
   "source": [
    "Maps: https://altair-viz.github.io/gallery/index.html#maps"
   ]
  },
  {
   "cell_type": "markdown",
   "metadata": {},
   "source": [
    "Interactive charts: https://altair-viz.github.io/gallery/index.html#interactive-charts"
   ]
  },
  {
   "cell_type": "markdown",
   "metadata": {},
   "source": [
    "<a href=\"#Mini-Project---Altair---Vega-Graph-Hands-On\"><p >Scroll Top\n",
    "<hr style=\"height:.15em; background-color:gray\">"
   ]
  },
  {
   "cell_type": "markdown",
   "metadata": {},
   "source": [
    "<div class=\"alert alert-block alert-warning\">\n",
    "<h1 style=\"text-align:center;\">Citations</h1>\n",
    "<br>"
   ]
  },
  {
   "cell_type": "markdown",
   "metadata": {},
   "source": [
    "* [Citing `Altair Docs`](https://altair-viz.github.io/index.html)\n",
    "* [Citing `Vega`](https://vega.github.io/vega/)"
   ]
  },
  {
   "cell_type": "markdown",
   "metadata": {},
   "source": [
    "<a href=\"#Mini-Project---Altair---Vega-Graph-Hands-On\"><p >Scroll Top\n",
    "<hr style=\"height:.15em; background-color:gray\">"
   ]
  },
  {
   "cell_type": "markdown",
   "metadata": {},
   "source": [
    "<div class=\"alert alert-block alert-warning\">\n",
    "<h1 style=\"text-align:center;\">Footer</h1>\n",
    "<br>"
   ]
  },
  {
   "cell_type": "markdown",
   "metadata": {},
   "source": [
    "<div class=\"alert alert-block alert-info\">\n",
    "    <b>Copyright</b> 2020 Srushti Dhamangaonkar <br>\n",
    "    <br>Permission is hereby granted, free of charge, to any person obtaining a copy of this software and associated documentation files (the \"Software\"), to deal in the Software without restriction, including without limitation the rights to use, copy, modify, merge, publish, distribute, sublicense, and/or sell copies of the Software, and to permit persons to whom the Software is furnished to do so, subject to the following conditions:<br>\n",
    "    <br>The above copyright notice and this permission notice shall be included in all copies or substantial portions of the Software.<br>\n",
    "    <br>THE SOFTWARE IS PROVIDED \"AS IS\", WITHOUT WARRANTY OF ANY KIND, EXPRESS OR IMPLIED, INCLUDING BUT NOT LIMITED TO THE WARRANTIES OF MERCHANTABILITY, FITNESS FOR A PARTICULAR PURPOSE AND NONINFRINGEMENT. IN NO EVENT SHALL THE AUTHORS OR COPYRIGHT HOLDERS BE LIABLE FOR ANY CLAIM, DAMAGES OR OTHER LIABILITY, WHETHER IN AN ACTION OF CONTRACT, TORT OR OTHERWISE, ARISING FROM, OUT OF OR IN CONNECTION WITH THE SOFTWARE OR THE USE OR OTHER DEALINGS IN THE SOFTWARE.\n",
    "    <br><br>\n",
    "    \n",
    "<div class=\"text-center\">\n",
    "    <a rel=\"license\" href=\"http://creativecommons.org/licenses/by/3.0/us/\"><img alt=\"Creative Commons License\" style=\"border-width:0\" src=\"https://i.creativecommons.org/l/by/3.0/us/88x31.png\" /></a><br />This work is licensed under a <a rel=\"license\" href=\"http://creativecommons.org/licenses/by/3.0/us/\">Creative Commons Attribution 3.0 United States License</a>.<br>\n",
    "</div></div>"
   ]
  },
  {
   "cell_type": "markdown",
   "metadata": {},
   "source": [
    "<a href=\"#Mini-Project---Altair---Vega-Graph-Hands-On\"><p >Scroll Top\n",
    "<hr style=\"height:.15em; background-color:gray\">"
   ]
  }
 ],
 "metadata": {
  "kernelspec": {
   "display_name": "Python 3",
   "language": "python",
   "name": "python3"
  },
  "language_info": {
   "codemirror_mode": {
    "name": "ipython",
    "version": 3
   },
   "file_extension": ".py",
   "mimetype": "text/x-python",
   "name": "python",
   "nbconvert_exporter": "python",
   "pygments_lexer": "ipython3",
   "version": "3.8.3"
  }
 },
 "nbformat": 4,
 "nbformat_minor": 2
}
